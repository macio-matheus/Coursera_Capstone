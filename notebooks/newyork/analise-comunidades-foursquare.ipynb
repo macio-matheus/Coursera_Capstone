{
 "cells": [
  {
   "cell_type": "markdown",
   "metadata": {},
   "source": [
    "## Análise de Comunidades Baseada no Foursquare\n",
    "\n",
    "### Disciplina: análise de redes sociais\n",
    "\n",
    "### Equipe:\n",
    "* Henrique Lima\n",
    "* Julio Sales\n",
    "* Mácio Matheus\n",
    "* Victor Outtes"
   ]
  },
  {
   "cell_type": "code",
   "execution_count": 1,
   "metadata": {},
   "outputs": [],
   "source": [
    "import pandas as pd\n",
    "import numpy as np\n",
    "import scipy as sp\n",
    "import networkx as nx\n",
    "import matplotlib.pyplot as plt\n",
    "import matplotlib.cm as cm\n",
    "import requests\n",
    "import json\n",
    "import itertools\n",
    "from pandas.io.json import json_normalize\n",
    "import community"
   ]
  },
  {
   "cell_type": "markdown",
   "metadata": {},
   "source": [
    "## 1. Coleta de dados\n",
    "\n",
    "A coleta foi feita utilizando a API fornecida pelo Foursquare. Ela necessita de 2 parâmetros para ser acessada, o CLIENT ID e o CLIENT SECRETE, que podem ser obtidos ao se cadastrar como desenvolvedor no site da ferramenta.\n",
    "\n",
    "O acesso que utilizamos utiliza coordenadas do local desejado e um raio de busca para encontrar os estabelecimentos mais curtidos. Esta foi a base da consulta.\n",
    "\n",
    "Após isto, fazemos mais uma consulta: coletar os usuários que deram curtidas em todos os estabelecimentos obtidos. Juntando as 2 bases, conseguimos gerar um CSV. A partir dele que tudo será feito."
   ]
  },
  {
   "cell_type": "markdown",
   "metadata": {},
   "source": [
    "#### Função auxiliar para obter a categoria do local"
   ]
  },
  {
   "cell_type": "code",
   "execution_count": 2,
   "metadata": {},
   "outputs": [],
   "source": [
    "def get_category_type(row):\n",
    "    try:\n",
    "        categories_list = row['categories']\n",
    "    except:\n",
    "        categories_list = row['venue.categories']\n",
    "        \n",
    "    if len(categories_list) == 0:\n",
    "        return None\n",
    "    return categories_list[0]['name']"
   ]
  },
  {
   "cell_type": "markdown",
   "metadata": {},
   "source": [
    "#### Dados básicos utilizados nas consultas"
   ]
  },
  {
   "cell_type": "code",
   "execution_count": null,
   "metadata": {},
   "outputs": [],
   "source": [
    "CLIENT_ID = '55LWIFZLZNZPSTAZZQKJXBD11BSBCUZTZPIXWVV4RFZJP1HS' # your Foursquare ID\n",
    "CLIENT_SECRET = 'RPCOWGHQY5YNQUCHQUTC5VLKEYFGZN15FSIYTK5GNXNZ301E' # your Foursquare Secret\n",
    "VERSION = '20180604'\n",
    "latitude_nyork = 40.785091\n",
    "longitude_nyork = -73.968285\n",
    "radius = 10000\n",
    "LIMIT = 100"
   ]
  },
  {
   "cell_type": "markdown",
   "metadata": {},
   "source": [
    "#### Obtem a lista de locais"
   ]
  },
  {
   "cell_type": "code",
   "execution_count": null,
   "metadata": {},
   "outputs": [],
   "source": [
    "QUERY = ''\n",
    "url = 'https://api.foursquare.com/v2/venues/explore?time=any&query={}&client_id={}&client_secret={}&ll={},{}&v={}&radius={}&limit={}'.format(\n",
    "    QUERY, CLIENT_ID, CLIENT_SECRET, latitude_nyork, longitude_nyork, VERSION, radius, LIMIT)\n",
    "results = requests.get(url).json()\n",
    "locais = results['response']['groups'][0]['items']\n",
    "locais_proximos = json_normalize(locais)\n",
    "filtered_columns = ['venue.id', 'venue.name', 'venue.categories', 'venue.location.lat', 'venue.location.lng']\n",
    "locais_proximos = locais_proximos.loc[:, filtered_columns]\n",
    "locais_proximos.columns = [col.split(\".\")[-1] for col in locais_proximos.columns]\n",
    "locais_proximos['categories'] = locais_proximos.apply(get_category_type, axis=1)\n",
    "locais_proximos.tail(10)"
   ]
  },
  {
   "cell_type": "markdown",
   "metadata": {},
   "source": [
    "#### Para cada local pega as curtidas"
   ]
  },
  {
   "cell_type": "code",
   "execution_count": null,
   "metadata": {},
   "outputs": [],
   "source": [
    "checkins_locais = pd.DataFrame()\n",
    "for i,local in locais_proximos.iterrows():\n",
    "    url = 'https://api.foursquare.com/v2/venues/{}/likes?client_id={}&client_secret={}&v={}&limit={}'.format(\n",
    "    local['id'], CLIENT_ID, CLIENT_SECRET, VERSION, 10000)\n",
    "    results = requests.get(url).json()\n",
    "    if (results['response']['likes']['count'] > 0) & ('items' in results['response']['likes']):\n",
    "        results_2 = results['response']['likes']['items']\n",
    "        checkins = json_normalize(results_2)[['id', 'firstName', 'gender']]\n",
    "        checkins['avenue_id'] = local['id']\n",
    "        checkins['avenue_name'] = local['name']\n",
    "        checkins['avenue_categories'] = local['categories']\n",
    "        checkins['avenue_lat'] = local['lat']\n",
    "        checkins['avenue_lng'] = local['lng']\n",
    "        if checkins_locais.empty:\n",
    "            checkins_locais = checkins\n",
    "        else:\n",
    "            checkins_locais = pd.concat([checkins_locais, checkins], ignore_index=True)"
   ]
  },
  {
   "cell_type": "code",
   "execution_count": null,
   "metadata": {},
   "outputs": [],
   "source": [
    "# checkins_locais.to_csv('likes_NY_geral.csv', index=False)\n",
    "checkins_locais = pd.read_csv('likes_NY_geral.csv')\n",
    "checkins_locais.tail()"
   ]
  },
  {
   "cell_type": "markdown",
   "metadata": {},
   "source": [
    "## 2. Pré-processamento dos dados"
   ]
  },
  {
   "cell_type": "markdown",
   "metadata": {},
   "source": [
    "#### Filtragens\n",
    "\n",
    "Aqui pegamos os locais com até 650 curtidas, para evitar pegar locais mais famosos que todo mundo vai. O ideal é utilizar a base toda, mas por questões de infraestrutura para processamento decidimos este caminho."
   ]
  },
  {
   "cell_type": "code",
   "execution_count": null,
   "metadata": {},
   "outputs": [],
   "source": [
    "locais_vc = checkins_locais['avenue_id'].value_counts()\n",
    "locais_filter = locais_vc[locais_vc <= 650].index.tolist()\n",
    "len(locais_filter)"
   ]
  },
  {
   "cell_type": "markdown",
   "metadata": {},
   "source": [
    "Retirando da base de dados apenas os locais identificados acima..."
   ]
  },
  {
   "cell_type": "code",
   "execution_count": null,
   "metadata": {},
   "outputs": [],
   "source": [
    "likes_completo = checkins_locais[checkins_locais['avenue_id'].isin(locais_filter)]"
   ]
  },
  {
   "cell_type": "markdown",
   "metadata": {},
   "source": [
    "Aqui filtramos da base anterior só os usuários que deram pelo menos 2 curtidas em algum lugar. Isto serve para reduzir bastante a quantidade de usuários que serão os nós do grafo.\n",
    "\n",
    "Depois disto, pegamos a lista de locais distintos obtidos depois desses 2 filtros."
   ]
  },
  {
   "cell_type": "code",
   "execution_count": null,
   "metadata": {},
   "outputs": [],
   "source": [
    "vc = likes_completo['id'].value_counts()\n",
    "filter = vc[vc >= 2].index.tolist()\n",
    "locais_unicos = likes_completo[likes_completo['id'].isin(filter)]['avenue_id'].drop_duplicates()\n",
    "locais_unicos = locais_unicos.tolist()\n",
    "len(locais_unicos)"
   ]
  },
  {
   "cell_type": "markdown",
   "metadata": {},
   "source": [
    "## 3. Criação do grafo\n",
    "\n",
    "Aqui segue a criação do grafo. Primeiro criamos os nós com os atributos de cada usuário. Após, para cada local selecionado, pegamos a listagem de usuários que deram curtida e fazemos uma combinação 2 a 2 para criar as arestas. \n",
    "\n",
    "Se a aresta entre dois nós não existe ela é criada com peso 1. Se já existe, o peso é incrementado em 1."
   ]
  },
  {
   "cell_type": "code",
   "execution_count": null,
   "metadata": {},
   "outputs": [],
   "source": [
    "grafo = nx.Graph()\n",
    "for usuarios in usuarios_unicos:\n",
    "    grafo.add_node(str(usuarios), \n",
    "           nome=likes_completo[likes_completo['id']==usuarios]['firstName'].values[0],\n",
    "           genero=likes_completo[likes_completo['id']==usuarios]['gender'].values[0])\n",
    "for local in locais_unicos:\n",
    "    # pessoas que deram like...\n",
    "    pessoas = list(likes_completo[\n",
    "        (likes_completo['avenue_id'] == local) & (likes_completo['id'].isin(filter))\n",
    "    ]['id'].drop_duplicates().values)\n",
    "    combinacoes = itertools.combinations(pessoas, 2)\n",
    "    for comb in combinacoes:\n",
    "        u = comb[0]\n",
    "        outro = comb[1]\n",
    "        if grafo.has_edge(str(u), str(outro)):\n",
    "            grafo[str(u)][str(outro)]['weight'] = grafo[str(u)][str(outro)]['weight'] + 1\n",
    "        else:\n",
    "            grafo.add_edge(str(u), str(outro), weight=1)"
   ]
  },
  {
   "cell_type": "code",
   "execution_count": null,
   "metadata": {},
   "outputs": [],
   "source": [
    "# nx.write_gml(grafo, 'grafo_new_york.gml')\n",
    "grafo = nx.read_gml('grafo_new_york.gml')"
   ]
  },
  {
   "cell_type": "markdown",
   "metadata": {},
   "source": [
    "## 4. Análise básica\n",
    "\n",
    "Número de nós"
   ]
  },
  {
   "cell_type": "code",
   "execution_count": null,
   "metadata": {},
   "outputs": [],
   "source": [
    "nx.number_of_nodes(grafo)"
   ]
  },
  {
   "cell_type": "markdown",
   "metadata": {},
   "source": [
    "Número de arestas"
   ]
  },
  {
   "cell_type": "code",
   "execution_count": null,
   "metadata": {},
   "outputs": [],
   "source": [
    "nx.number_of_edges(grafo)"
   ]
  },
  {
   "cell_type": "markdown",
   "metadata": {},
   "source": [
    "Grau médio"
   ]
  },
  {
   "cell_type": "code",
   "execution_count": null,
   "metadata": {},
   "outputs": [],
   "source": [
    "np.mean([grau[1] for grau in list(nx.degree(grafo, weight='weight'))])"
   ]
  },
  {
   "cell_type": "markdown",
   "metadata": {},
   "source": [
    "Centralidade de grau média"
   ]
  },
  {
   "cell_type": "code",
   "execution_count": null,
   "metadata": {},
   "outputs": [],
   "source": [
    "np.mean(list(nx.degree_centrality(grafo).values()))"
   ]
  },
  {
   "cell_type": "markdown",
   "metadata": {},
   "source": [
    "Centralidade de autovetor média"
   ]
  },
  {
   "cell_type": "code",
   "execution_count": null,
   "metadata": {},
   "outputs": [],
   "source": [
    "np.mean(list(nx.eigenvector_centrality(grafo, weight='weight').values()))"
   ]
  },
  {
   "cell_type": "markdown",
   "metadata": {},
   "source": [
    "Centralidade de proximidade média"
   ]
  },
  {
   "cell_type": "code",
   "execution_count": null,
   "metadata": {},
   "outputs": [],
   "source": [
    "np.mean(list(nx.betweenness_centrality(grafo, weight='weight').values()))"
   ]
  },
  {
   "cell_type": "markdown",
   "metadata": {},
   "source": [
    "Coeficiente de cluster médio"
   ]
  },
  {
   "cell_type": "code",
   "execution_count": null,
   "metadata": {},
   "outputs": [],
   "source": [
    "nx.average_clustering(grafo, weight='weight')"
   ]
  },
  {
   "cell_type": "markdown",
   "metadata": {},
   "source": [
    "Excentricidade média"
   ]
  },
  {
   "cell_type": "code",
   "execution_count": null,
   "metadata": {},
   "outputs": [],
   "source": [
    "np.mean(list(nx.eccentricity(grafo).values()))"
   ]
  },
  {
   "cell_type": "markdown",
   "metadata": {},
   "source": [
    "## 5. Visualização\n",
    "\n",
    "Calcula o posicionamento dos nós"
   ]
  },
  {
   "cell_type": "code",
   "execution_count": null,
   "metadata": {},
   "outputs": [],
   "source": [
    "pos = nx.spring_layout(grafo)"
   ]
  },
  {
   "cell_type": "markdown",
   "metadata": {},
   "source": [
    "Desenha o grafo. As cores são formadas a partir das medidas de centralidade de grau de cada nó. Os tamanhos são definidos proporcionalmente às medidas de centralidade de autovetor de cada nó."
   ]
  },
  {
   "cell_type": "code",
   "execution_count": null,
   "metadata": {},
   "outputs": [],
   "source": [
    "node_color = [cent for cent in nx.degree_centrality(grafo).values()]\n",
    "node_size = [eigen * 1000 for eigen in list(nx.eigenvector_centrality(grafo, weight='weight').values())]\n",
    "plt.figure(figsize=(15,15))\n",
    "ed = nx.draw_networkx_edges(grafo, pos=pos, alpha=0.3, edge_color='gray')\n",
    "no = nx.draw_networkx_nodes(grafo, pos=pos, alpha=0.6, with_labels=False, node_color=node_color, \n",
    "                            cmap=cm.jet, vmin=min(list(nx.degree_centrality(grafo).values())), \n",
    "                            vmax=max(list(nx.degree_centrality(grafo).values())),\n",
    "                            node_size=node_size)\n",
    "plt.colorbar(no)\n",
    "plt.axis('off')"
   ]
  },
  {
   "cell_type": "markdown",
   "metadata": {},
   "source": [
    "## 6. Detecção de comunidades\n",
    "\n",
    "Para detectar as eventuais comunidades da rede utilizamos a biblioteca <strong>python-louvain</strong>. Ele define as comunidades com apenas a linha de código a seguir:"
   ]
  },
  {
   "cell_type": "code",
   "execution_count": null,
   "metadata": {},
   "outputs": [],
   "source": [
    "partition = community.best_partition(grafo, weight='weight')"
   ]
  },
  {
   "cell_type": "markdown",
   "metadata": {},
   "source": [
    "Agora vamos desenhar o grafo de forma bem parecida com o anterior. Porém, agora, as cores serão as comunidades armazenadas na variável <strong>partition</strong>"
   ]
  },
  {
   "cell_type": "code",
   "execution_count": null,
   "metadata": {},
   "outputs": [],
   "source": [
    "node_color = [partition.get(node) for node in grafo.nodes()]\n",
    "node_size = [eigen * 1000 for eigen in list(nx.eigenvector_centrality(grafo, weight='weight').values())]\n",
    "plt.figure(figsize=(15,15))\n",
    "ed = nx.draw_networkx_edges(grafo, pos=pos, alpha=0.3, edge_color='gray')\n",
    "no = nx.draw_networkx_nodes(grafo, pos=pos, alpha=0.6, with_labels=False, node_color=node_color, \n",
    "                            cmap=cm.jet, vmin=0.0, vmax=max(partition.values()),\n",
    "                            node_size=node_size)\n",
    "plt.colorbar(no)\n",
    "plt.axis('off')"
   ]
  },
  {
   "cell_type": "markdown",
   "metadata": {},
   "source": [
    "## 6.1. Análise das comunidades\n",
    "\n",
    "A partir da definição dos grupos, podemos atualizar nossa base de dados inicial de curtidas com o grupo de cada usuário:"
   ]
  },
  {
   "cell_type": "code",
   "execution_count": null,
   "metadata": {},
   "outputs": [],
   "source": [
    "likes_completo['cluster'] = likes_completo['id'].apply(\n",
    "    lambda x: partition[str(x)] if str(x) in list(partition.keys()) else None)\n",
    "likes_com_cluster = likes_completo[~likes_completo['cluster'].isnull()]\n",
    "likes_com_cluster.tail()"
   ]
  },
  {
   "cell_type": "code",
   "execution_count": null,
   "metadata": {},
   "outputs": [],
   "source": [
    "#likes_com_cluster.to_csv('likes_NY_geral_cluster.csv', index=False)"
   ]
  },
  {
   "cell_type": "markdown",
   "metadata": {},
   "source": [
    "Para cada comunidade detectada podemos ver quais foram os locais mais curtidos pelos usuários:"
   ]
  },
  {
   "cell_type": "code",
   "execution_count": null,
   "metadata": {},
   "outputs": [],
   "source": [
    "likes_com_cluster[likes_com_cluster['cluster'] == 0]['avenue_name'].value_counts()[:3]"
   ]
  },
  {
   "cell_type": "code",
   "execution_count": null,
   "metadata": {},
   "outputs": [],
   "source": [
    "likes_com_cluster[likes_com_cluster['cluster'] == 1]['avenue_name'].value_counts()[:3]"
   ]
  },
  {
   "cell_type": "code",
   "execution_count": null,
   "metadata": {},
   "outputs": [],
   "source": [
    "likes_com_cluster[likes_com_cluster['cluster'] == 2]['avenue_name'].value_counts()[:3]"
   ]
  },
  {
   "cell_type": "code",
   "execution_count": null,
   "metadata": {},
   "outputs": [],
   "source": [
    "likes_com_cluster[likes_com_cluster['cluster'] == 3]['avenue_name'].value_counts()[:3]"
   ]
  },
  {
   "cell_type": "code",
   "execution_count": null,
   "metadata": {},
   "outputs": [],
   "source": [
    "likes_com_cluster[likes_com_cluster['cluster'] == 4]['avenue_name'].value_counts()[:3]"
   ]
  },
  {
   "cell_type": "code",
   "execution_count": null,
   "metadata": {},
   "outputs": [],
   "source": [
    "likes_com_cluster[likes_com_cluster['cluster'] == 5]['avenue_name'].value_counts()[:3]"
   ]
  },
  {
   "cell_type": "markdown",
   "metadata": {},
   "source": [
    "Também podemos encontrar as pessoas mais influentes da rede, pegando os nós com maior centralidade:"
   ]
  },
  {
   "cell_type": "code",
   "execution_count": null,
   "metadata": {},
   "outputs": [],
   "source": [
    "influentes = []\n",
    "dic = nx.degree_centrality(grafo)\n",
    "for v in sorted(dic, key=dic.get, reverse=True):\n",
    "    influentes.append(v)\n",
    "likes_com_cluster[likes_com_cluster['id'].isin(influentes[:10])][['firstName', 'gender', 'cluster']].drop_duplicates()"
   ]
  }
 ],
 "metadata": {
  "kernelspec": {
   "display_name": "Python 3",
   "language": "python",
   "name": "python3"
  },
  "language_info": {
   "codemirror_mode": {
    "name": "ipython",
    "version": 3
   },
   "file_extension": ".py",
   "mimetype": "text/x-python",
   "name": "python",
   "nbconvert_exporter": "python",
   "pygments_lexer": "ipython3",
   "version": "3.6.7"
  }
 },
 "nbformat": 4,
 "nbformat_minor": 2
}
