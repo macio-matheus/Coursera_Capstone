{
 "cells": [
  {
   "cell_type": "code",
   "execution_count": 37,
   "metadata": {},
   "outputs": [],
   "source": [
    "import pandas as pd\n",
    "import numpy as np\n",
    "import requests\n",
    "import json\n",
    "from pandas.io.json import json_normalize"
   ]
  },
  {
   "cell_type": "markdown",
   "metadata": {},
   "source": [
    "#### Retorna a categoria do local"
   ]
  },
  {
   "cell_type": "code",
   "execution_count": 41,
   "metadata": {},
   "outputs": [],
   "source": [
    "def get_category_type(row):\n",
    "    try:\n",
    "        categories_list = row['categories']\n",
    "    except:\n",
    "        categories_list = row['venue.categories']\n",
    "        \n",
    "    if len(categories_list) == 0:\n",
    "        return None\n",
    "    return categories_list[0]['name']"
   ]
  },
  {
   "cell_type": "markdown",
   "metadata": {},
   "source": [
    "#### Informações para acessar a API do foursquare"
   ]
  },
  {
   "cell_type": "code",
   "execution_count": 70,
   "metadata": {},
   "outputs": [],
   "source": [
    "CLIENT_ID = '55LWIFZLZNZPSTAZZQKJXBD11BSBCUZTZPIXWVV4RFZJP1HS' # your Foursquare ID\n",
    "CLIENT_SECRET = 'RPCOWGHQY5YNQUCHQUTC5VLKEYFGZN15FSIYTK5GNXNZ301E' # your Foursquare Secret\n",
    "VERSION = '20180604'"
   ]
  },
  {
   "cell_type": "markdown",
   "metadata": {},
   "source": [
    "#### Informações da cidade delimitada"
   ]
  },
  {
   "cell_type": "code",
   "execution_count": 144,
   "metadata": {},
   "outputs": [],
   "source": [
    "latitude_nyork = 40.730610\n",
    "longitude_nyork = -73.935242\n",
    "radius = 50000\n",
    "LIMIT = 2500"
   ]
  },
  {
   "cell_type": "markdown",
   "metadata": {},
   "source": [
    "#### Coletando as informações dos locais"
   ]
  },
  {
   "cell_type": "code",
   "execution_count": 145,
   "metadata": {},
   "outputs": [],
   "source": [
    "url = 'https://api.foursquare.com/v2/venues/explore?client_id={}&client_secret={}&ll={},{}&v={}&radius={}&limit={}'.format(\n",
    "    CLIENT_ID, CLIENT_SECRET, latitude_nyork, longitude_nyork, VERSION, radius, LIMIT)\n",
    "            \n",
    "# make the GET request\n",
    "results = requests.get(url).json()"
   ]
  },
  {
   "cell_type": "code",
   "execution_count": 146,
   "metadata": {},
   "outputs": [
    {
     "data": {
      "text/html": [
       "<div>\n",
       "<style>\n",
       "    .dataframe thead tr:only-child th {\n",
       "        text-align: right;\n",
       "    }\n",
       "\n",
       "    .dataframe thead th {\n",
       "        text-align: left;\n",
       "    }\n",
       "\n",
       "    .dataframe tbody tr th {\n",
       "        vertical-align: top;\n",
       "    }\n",
       "</style>\n",
       "<table border=\"1\" class=\"dataframe\">\n",
       "  <thead>\n",
       "    <tr style=\"text-align: right;\">\n",
       "      <th></th>\n",
       "      <th>id</th>\n",
       "      <th>name</th>\n",
       "      <th>categories</th>\n",
       "      <th>lat</th>\n",
       "      <th>lng</th>\n",
       "    </tr>\n",
       "  </thead>\n",
       "  <tbody>\n",
       "    <tr>\n",
       "      <th>90</th>\n",
       "      <td>4a66f31af964a520dcc81fe3</td>\n",
       "      <td>Equinox West 50th Street</td>\n",
       "      <td>Gym</td>\n",
       "      <td>40.761912</td>\n",
       "      <td>-73.984268</td>\n",
       "    </tr>\n",
       "    <tr>\n",
       "      <th>91</th>\n",
       "      <td>51971065498ef767dfaa6b6c</td>\n",
       "      <td>Dynaco</td>\n",
       "      <td>Bar</td>\n",
       "      <td>40.686660</td>\n",
       "      <td>-73.954633</td>\n",
       "    </tr>\n",
       "    <tr>\n",
       "      <th>92</th>\n",
       "      <td>546232fb498e6f99835ec2c2</td>\n",
       "      <td>Stick With Me</td>\n",
       "      <td>Chocolate Shop</td>\n",
       "      <td>40.721295</td>\n",
       "      <td>-73.995627</td>\n",
       "    </tr>\n",
       "    <tr>\n",
       "      <th>93</th>\n",
       "      <td>557dae53498ed2645c3ebbc0</td>\n",
       "      <td>Mekelburg's</td>\n",
       "      <td>Gourmet Shop</td>\n",
       "      <td>40.687571</td>\n",
       "      <td>-73.962370</td>\n",
       "    </tr>\n",
       "    <tr>\n",
       "      <th>94</th>\n",
       "      <td>52701b99498eaa2785f4f68f</td>\n",
       "      <td>Winter Garden Theatre</td>\n",
       "      <td>Theater</td>\n",
       "      <td>40.761405</td>\n",
       "      <td>-73.983555</td>\n",
       "    </tr>\n",
       "    <tr>\n",
       "      <th>95</th>\n",
       "      <td>59e0ee84f0ca95526b7fce9f</td>\n",
       "      <td>CAVA</td>\n",
       "      <td>Mediterranean Restaurant</td>\n",
       "      <td>40.721928</td>\n",
       "      <td>-73.996512</td>\n",
       "    </tr>\n",
       "    <tr>\n",
       "      <th>96</th>\n",
       "      <td>4a06f82df964a52010731fe3</td>\n",
       "      <td>Two Little Red Hens</td>\n",
       "      <td>Bakery</td>\n",
       "      <td>40.777523</td>\n",
       "      <td>-73.951761</td>\n",
       "    </tr>\n",
       "    <tr>\n",
       "      <th>97</th>\n",
       "      <td>4b1074dbf964a520d47023e3</td>\n",
       "      <td>Majestic Theatre</td>\n",
       "      <td>Theater</td>\n",
       "      <td>40.758298</td>\n",
       "      <td>-73.988154</td>\n",
       "    </tr>\n",
       "    <tr>\n",
       "      <th>98</th>\n",
       "      <td>4ed14ab093ad987b4e200de1</td>\n",
       "      <td>Speedy Romeo</td>\n",
       "      <td>Pizza Place</td>\n",
       "      <td>40.687397</td>\n",
       "      <td>-73.959879</td>\n",
       "    </tr>\n",
       "    <tr>\n",
       "      <th>99</th>\n",
       "      <td>3fd66200f964a520b6e71ee3</td>\n",
       "      <td>Carnegie Hall</td>\n",
       "      <td>Concert Hall</td>\n",
       "      <td>40.765125</td>\n",
       "      <td>-73.979918</td>\n",
       "    </tr>\n",
       "  </tbody>\n",
       "</table>\n",
       "</div>"
      ],
      "text/plain": [
       "                          id                      name  \\\n",
       "90  4a66f31af964a520dcc81fe3  Equinox West 50th Street   \n",
       "91  51971065498ef767dfaa6b6c                    Dynaco   \n",
       "92  546232fb498e6f99835ec2c2             Stick With Me   \n",
       "93  557dae53498ed2645c3ebbc0               Mekelburg's   \n",
       "94  52701b99498eaa2785f4f68f     Winter Garden Theatre   \n",
       "95  59e0ee84f0ca95526b7fce9f                      CAVA   \n",
       "96  4a06f82df964a52010731fe3       Two Little Red Hens   \n",
       "97  4b1074dbf964a520d47023e3          Majestic Theatre   \n",
       "98  4ed14ab093ad987b4e200de1              Speedy Romeo   \n",
       "99  3fd66200f964a520b6e71ee3             Carnegie Hall   \n",
       "\n",
       "                  categories        lat        lng  \n",
       "90                       Gym  40.761912 -73.984268  \n",
       "91                       Bar  40.686660 -73.954633  \n",
       "92            Chocolate Shop  40.721295 -73.995627  \n",
       "93              Gourmet Shop  40.687571 -73.962370  \n",
       "94                   Theater  40.761405 -73.983555  \n",
       "95  Mediterranean Restaurant  40.721928 -73.996512  \n",
       "96                    Bakery  40.777523 -73.951761  \n",
       "97                   Theater  40.758298 -73.988154  \n",
       "98               Pizza Place  40.687397 -73.959879  \n",
       "99              Concert Hall  40.765125 -73.979918  "
      ]
     },
     "execution_count": 146,
     "metadata": {},
     "output_type": "execute_result"
    }
   ],
   "source": [
    "venues = results['response']['groups'][0]['items']  \n",
    "nearby_venues = json_normalize(venues)\n",
    "filtered_columns = ['venue.id', 'venue.name', 'venue.categories', 'venue.location.lat', 'venue.location.lng']\n",
    "nearby_venues =nearby_venues.loc[:, filtered_columns]\n",
    "nearby_venues['venue.categories'] = nearby_venues.apply(get_category_type, axis=1)\n",
    "nearby_venues.columns = [col.split(\".\")[-1] for col in nearby_venues.columns]\n",
    "\n",
    "nearby_venues.tail(10)"
   ]
  },
  {
   "cell_type": "markdown",
   "metadata": {},
   "source": [
    "#### Para cada local, encontrar as pessoas que curtiram"
   ]
  },
  {
   "cell_type": "code",
   "execution_count": 147,
   "metadata": {},
   "outputs": [],
   "source": [
    "users_total = pd.DataFrame()\n",
    "for venue in nearby_venues.iterrows():\n",
    "    url = 'https://api.foursquare.com/v2/venues/{}/likes?client_id={}&client_secret={}&v={}&limit={}'.format(\n",
    "    venue[1]['id'], CLIENT_ID, CLIENT_SECRET, VERSION, 1000)\n",
    "    results = requests.get(url).json()\n",
    "    results_2 = results['response']['likes']['items']\n",
    "    users = json_normalize(results_2)[['id', 'firstName', 'gender']]\n",
    "    users['avenue_id'] = venue[1]['id']\n",
    "    users['avenue_name'] = venue[1]['name']\n",
    "    users['avenue_categories'] = venue[1]['categories']\n",
    "    users['avenue_lat'] = venue[1]['lat']\n",
    "    users['avenue_lng'] = venue[1]['lng']\n",
    "    if users_total.empty:\n",
    "        users_total = users\n",
    "    else:\n",
    "        users_total = pd.concat([users_total, users], ignore_index=True)"
   ]
  },
  {
   "cell_type": "code",
   "execution_count": 148,
   "metadata": {},
   "outputs": [
    {
     "data": {
      "text/html": [
       "<div>\n",
       "<style>\n",
       "    .dataframe thead tr:only-child th {\n",
       "        text-align: right;\n",
       "    }\n",
       "\n",
       "    .dataframe thead th {\n",
       "        text-align: left;\n",
       "    }\n",
       "\n",
       "    .dataframe tbody tr th {\n",
       "        vertical-align: top;\n",
       "    }\n",
       "</style>\n",
       "<table border=\"1\" class=\"dataframe\">\n",
       "  <thead>\n",
       "    <tr style=\"text-align: right;\">\n",
       "      <th></th>\n",
       "      <th>id</th>\n",
       "      <th>firstName</th>\n",
       "      <th>gender</th>\n",
       "      <th>avenue_id</th>\n",
       "      <th>avenue_name</th>\n",
       "      <th>avenue_categories</th>\n",
       "      <th>avenue_lat</th>\n",
       "      <th>avenue_lng</th>\n",
       "    </tr>\n",
       "  </thead>\n",
       "  <tbody>\n",
       "    <tr>\n",
       "      <th>55686</th>\n",
       "      <td>12008009</td>\n",
       "      <td>Mert</td>\n",
       "      <td>male</td>\n",
       "      <td>3fd66200f964a520b6e71ee3</td>\n",
       "      <td>Carnegie Hall</td>\n",
       "      <td>Concert Hall</td>\n",
       "      <td>40.765125</td>\n",
       "      <td>-73.979918</td>\n",
       "    </tr>\n",
       "    <tr>\n",
       "      <th>55687</th>\n",
       "      <td>46043188</td>\n",
       "      <td>Christopher</td>\n",
       "      <td>male</td>\n",
       "      <td>3fd66200f964a520b6e71ee3</td>\n",
       "      <td>Carnegie Hall</td>\n",
       "      <td>Concert Hall</td>\n",
       "      <td>40.765125</td>\n",
       "      <td>-73.979918</td>\n",
       "    </tr>\n",
       "    <tr>\n",
       "      <th>55688</th>\n",
       "      <td>66093767</td>\n",
       "      <td>Sun-Young</td>\n",
       "      <td>female</td>\n",
       "      <td>3fd66200f964a520b6e71ee3</td>\n",
       "      <td>Carnegie Hall</td>\n",
       "      <td>Concert Hall</td>\n",
       "      <td>40.765125</td>\n",
       "      <td>-73.979918</td>\n",
       "    </tr>\n",
       "    <tr>\n",
       "      <th>55689</th>\n",
       "      <td>1876689</td>\n",
       "      <td>Virginia</td>\n",
       "      <td>female</td>\n",
       "      <td>3fd66200f964a520b6e71ee3</td>\n",
       "      <td>Carnegie Hall</td>\n",
       "      <td>Concert Hall</td>\n",
       "      <td>40.765125</td>\n",
       "      <td>-73.979918</td>\n",
       "    </tr>\n",
       "    <tr>\n",
       "      <th>55690</th>\n",
       "      <td>53586928</td>\n",
       "      <td>Debora</td>\n",
       "      <td>female</td>\n",
       "      <td>3fd66200f964a520b6e71ee3</td>\n",
       "      <td>Carnegie Hall</td>\n",
       "      <td>Concert Hall</td>\n",
       "      <td>40.765125</td>\n",
       "      <td>-73.979918</td>\n",
       "    </tr>\n",
       "  </tbody>\n",
       "</table>\n",
       "</div>"
      ],
      "text/plain": [
       "             id    firstName  gender                 avenue_id    avenue_name  \\\n",
       "55686  12008009         Mert    male  3fd66200f964a520b6e71ee3  Carnegie Hall   \n",
       "55687  46043188  Christopher    male  3fd66200f964a520b6e71ee3  Carnegie Hall   \n",
       "55688  66093767    Sun-Young  female  3fd66200f964a520b6e71ee3  Carnegie Hall   \n",
       "55689   1876689     Virginia  female  3fd66200f964a520b6e71ee3  Carnegie Hall   \n",
       "55690  53586928       Debora  female  3fd66200f964a520b6e71ee3  Carnegie Hall   \n",
       "\n",
       "      avenue_categories  avenue_lat  avenue_lng  \n",
       "55686      Concert Hall   40.765125  -73.979918  \n",
       "55687      Concert Hall   40.765125  -73.979918  \n",
       "55688      Concert Hall   40.765125  -73.979918  \n",
       "55689      Concert Hall   40.765125  -73.979918  \n",
       "55690      Concert Hall   40.765125  -73.979918  "
      ]
     },
     "execution_count": 148,
     "metadata": {},
     "output_type": "execute_result"
    }
   ],
   "source": [
    "users_total.tail()"
   ]
  },
  {
   "cell_type": "code",
   "execution_count": 149,
   "metadata": {},
   "outputs": [
    {
     "data": {
      "text/plain": [
       "55691"
      ]
     },
     "execution_count": 149,
     "metadata": {},
     "output_type": "execute_result"
    }
   ],
   "source": [
    "len(users_total)"
   ]
  },
  {
   "cell_type": "code",
   "execution_count": 150,
   "metadata": {},
   "outputs": [],
   "source": [
    "users_total.to_csv('curtidas_new_york.csv', index=False)"
   ]
  },
  {
   "cell_type": "code",
   "execution_count": null,
   "metadata": {},
   "outputs": [],
   "source": []
  }
 ],
 "metadata": {
  "kernelspec": {
   "display_name": "Python 3",
   "language": "python",
   "name": "python3"
  },
  "language_info": {
   "codemirror_mode": {
    "name": "ipython",
    "version": 3
   },
   "file_extension": ".py",
   "mimetype": "text/x-python",
   "name": "python",
   "nbconvert_exporter": "python",
   "pygments_lexer": "ipython3",
   "version": "3.6.4"
  }
 },
 "nbformat": 4,
 "nbformat_minor": 2
}
